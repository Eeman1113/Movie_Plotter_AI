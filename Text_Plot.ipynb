{
  "cells": [
    {
      "cell_type": "code",
      "execution_count": 21,
      "metadata": {
        "id": "vnCVZ2Fg8l6E"
      },
      "outputs": [],
      "source": [
        "#@title Movie Plot\n",
        "Tiltle_of_your_film = 'I am him' #@param {type : \"string\"}"
      ]
    },
    {
      "cell_type": "code",
      "execution_count": 4,
      "metadata": {
        "colab": {
          "base_uri": "https://localhost:8080/"
        },
        "id": "4Ykc0r1P8u9E",
        "outputId": "9ae9f97a-92bc-4214-8619-6bf4307c7fe9"
      },
      "outputs": [
        {
          "name": "stdout",
          "output_type": "stream",
          "text": [
            "Looking in indexes: https://pypi.org/simple, https://us-python.pkg.dev/colab-wheels/public/simple/\n",
            "Requirement already satisfied: openai in /usr/local/lib/python3.9/dist-packages (0.27.2)\n",
            "Requirement already satisfied: aiohttp in /usr/local/lib/python3.9/dist-packages (from openai) (3.8.4)\n",
            "Requirement already satisfied: tqdm in /usr/local/lib/python3.9/dist-packages (from openai) (4.65.0)\n",
            "Requirement already satisfied: requests>=2.20 in /usr/local/lib/python3.9/dist-packages (from openai) (2.25.1)\n",
            "Requirement already satisfied: urllib3<1.27,>=1.21.1 in /usr/local/lib/python3.9/dist-packages (from requests>=2.20->openai) (1.26.15)\n",
            "Requirement already satisfied: certifi>=2017.4.17 in /usr/local/lib/python3.9/dist-packages (from requests>=2.20->openai) (2022.12.7)\n",
            "Requirement already satisfied: chardet<5,>=3.0.2 in /usr/local/lib/python3.9/dist-packages (from requests>=2.20->openai) (4.0.0)\n",
            "Requirement already satisfied: idna<3,>=2.5 in /usr/local/lib/python3.9/dist-packages (from requests>=2.20->openai) (2.10)\n",
            "Requirement already satisfied: charset-normalizer<4.0,>=2.0 in /usr/local/lib/python3.9/dist-packages (from aiohttp->openai) (3.1.0)\n",
            "Requirement already satisfied: attrs>=17.3.0 in /usr/local/lib/python3.9/dist-packages (from aiohttp->openai) (22.2.0)\n",
            "Requirement already satisfied: aiosignal>=1.1.2 in /usr/local/lib/python3.9/dist-packages (from aiohttp->openai) (1.3.1)\n",
            "Requirement already satisfied: yarl<2.0,>=1.0 in /usr/local/lib/python3.9/dist-packages (from aiohttp->openai) (1.8.2)\n",
            "Requirement already satisfied: multidict<7.0,>=4.5 in /usr/local/lib/python3.9/dist-packages (from aiohttp->openai) (6.0.4)\n",
            "Requirement already satisfied: frozenlist>=1.1.1 in /usr/local/lib/python3.9/dist-packages (from aiohttp->openai) (1.3.3)\n",
            "Requirement already satisfied: async-timeout<5.0,>=4.0.0a3 in /usr/local/lib/python3.9/dist-packages (from aiohttp->openai) (4.0.2)\n"
          ]
        }
      ],
      "source": [
        "!pip3 install openai"
      ]
    },
    {
      "cell_type": "code",
      "execution_count": 22,
      "metadata": {
        "id": "Wvoxl_VI8x55"
      },
      "outputs": [],
      "source": [
        "prompt=\"write a completly new never seen before movie plot and script on the topic \"+Tiltle_of_your_film"
      ]
    },
    {
      "cell_type": "code",
      "execution_count": 24,
      "metadata": {
        "colab": {
          "base_uri": "https://localhost:8080/"
        },
        "id": "r-GheyLgRYdA",
        "outputId": "37b16162-e064-4b53-9c62-5f507e3eb11a"
      },
      "outputs": [
        {
          "name": "stdout",
          "output_type": "stream",
          "text": [
            "\n",
            "\n",
            "\n",
            "\n",
            "Scene 1\n",
            "\n",
            "[We open to a shot of a city street. Walking along the street is a man. He has an air of mystery and someone who is not to be trifled with. His name is Paul.]\n",
            "\n",
            "Paul: [Walks along the street and stops in front of a bar. He looks inside and sees his reflection in the window.] I am him. [Pause] I am the one I have been waiting for.\n",
            "\n",
            "[Cut to inside the bar. Paul orders a drink and takes a seat. He looks around the bar and notices a few people, but none of them seem to recognize him. He takes a sip of his drink, and then he notices a woman in the corner. She is drinking alone and looks a bit sad.]\n",
            "\n",
            "Paul: [To the woman] Are you okay?\n",
            "\n",
            "Woman: [Surprised] Yes, I'm fine. [Takes a sip of her drink] Why do you ask?\n",
            "\n",
            "Paul: [Smiles] No reason. [Pause] I just wanted to make sure you're okay.\n",
            "\n",
            "[The woman smiles back and then looks away. Paul takes another sip of his drink and decides to introduce himself.]\n",
            "\n",
            "Paul: I'm Paul.\n",
            "\n",
            "Woman: [Smiles] Hi Paul. I'm Julia.\n",
            "\n",
            "[The two of them talk for a while, getting to know each other. Paul finds out that Julia has recently lost her job and is struggling to make ends meet. He offers to help her out, and she gratefully accepts.\n",
            "\n",
            "Scene 2\n",
            "\n",
            "[We cut to a few months later. Julia and Paul have been seeing each other regularly. Julia has found a job, and things are starting to look up. One night, they decide to go out for dinner.\n",
            "\n",
            "As they are walking to the restaurant, they spot a shady looking character in an alleyway. The man is clearly up to no good, and Paul instinctively steps forward to intervene. Before he can do anything, however, the mysterious man disappears into the shadows.]\n",
            "\n",
            "Julia: [Worried] Who was that?\n",
            "\n",
            "Paul: [Pauses] I'm not sure. But I have a feeling he's connected to me somehow.\n",
            "\n",
            "[The two of them continue on to the restaurant, but Paul can't shake the feeling that something is off. After dinner, they decide to take a walk and talk things through.\n",
            "\n",
            "As they walk, Paul notices that the mysterious man from the alley is following them. He quickly grabs Julia and pulls her into a nearby alleyway.]\n",
            "\n",
            "Paul: [To Julia] I need to show you something.\n",
            "\n",
            "[He takes out a small silver medallion from his pocket. The medallion has a strange symbol on it.]\n",
            "\n",
            "Paul: This is why the man was following us. This medallion is the key to my past. It's connected to something very important to me.\n",
            "\n",
            "[Julia looks at Paul in confusion.]\n",
            "\n",
            "Julia: What do you mean?\n",
            "\n",
            "Paul: [Sighs] I am him. I am the one I have been waiting for.\n",
            "\n",
            "[The camera fades out as the two of them share a knowing look.]\n"
          ]
        }
      ],
      "source": [
        "import openai\n",
        "\n",
        "openai.api_key = \"Y0UR API KEY HERE\"\n",
        "\n",
        "response = openai.Completion.create(\n",
        "  engine=\"text-davinci-003\",\n",
        "  prompt=prompt,\n",
        "  temperature=0.7 ,\n",
        "  max_tokens=2000,\n",
        "  top_p=1.0,\n",
        "  frequency_penalty=0.0,\n",
        "  presence_penalty=0.0\n",
        ")\n",
        "b=response\n",
        "print(\"\\n\")\n",
        "print(response.choices[0].text)"
      ]
    }
  ],
  "metadata": {
    "colab": {
      "provenance": []
    },
    "kernelspec": {
      "display_name": "Python 3",
      "name": "python3"
    },
    "language_info": {
      "name": "python"
    }
  },
  "nbformat": 4,
  "nbformat_minor": 0
}
